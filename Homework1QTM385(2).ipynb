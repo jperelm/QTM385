{
 "cells": [
  {
   "cell_type": "markdown",
   "metadata": {},
   "source": [
    "# QTM 385\n",
    "\n",
    "***\n",
    "\n",
    "## Homework 1\n",
    "\n",
    "Student: Jason Perelman (2282366)"
   ]
  },
  {
   "cell_type": "markdown",
   "metadata": {},
   "source": [
    "\n",
    "***\n",
    "\n",
    "### Question 1\n",
    "\n",
    "Run the following code:\n",
    "\n",
    "```\n",
    "0.1 + 0.1 + 0.1\n",
    "```\n",
    "\n",
    "Is it equal to `0.3`? If not, why? **No it is not exactly equal because of rounding that results from python inability to represent $.1$ as a binary floating point, therefore there is a small round off error when adding all of these values.**"
   ]
  },
  {
   "cell_type": "code",
   "execution_count": 25,
   "metadata": {
    "ExecuteTime": {
     "end_time": "2021-02-08T21:32:07.699496Z",
     "start_time": "2021-02-08T21:32:07.686525Z"
    }
   },
   "outputs": [
    {
     "name": "stdout",
     "output_type": "stream",
     "text": [
      "0.30000000000000004\n",
      "False\n"
     ]
    }
   ],
   "source": [
    "##Print Results\n",
    "result = 0.1 + 0.1 + 0.1\n",
    "print(result)\n",
    "print(result == 0.3)"
   ]
  },
  {
   "cell_type": "markdown",
   "metadata": {},
   "source": [
    "\n",
    "***\n",
    "\n",
    "### Question 2\n",
    "\n",
    "How many digits has $3^{1,000,000}$? (Hint: the function `str` transforms a number into a string.)  **$47122$ digits**"
   ]
  },
  {
   "cell_type": "code",
   "execution_count": 23,
   "metadata": {
    "ExecuteTime": {
     "end_time": "2021-02-08T21:13:34.612803Z",
     "start_time": "2021-02-08T21:13:31.238924Z"
    }
   },
   "outputs": [
    {
     "name": "stdout",
     "output_type": "stream",
     "text": [
      "477122\n",
      "<class 'str'>\n"
     ]
    }
   ],
   "source": [
    "digit = 3 ** 1000000\n",
    "\n",
    "##Convert Int to String\n",
    "digit_str = str(digit)\n",
    "print(len(digit_str))\n",
    "print(type(digit_str))"
   ]
  },
  {
   "cell_type": "markdown",
   "metadata": {},
   "source": [
    "\n",
    "***\n",
    "\n",
    "### Question 3\n",
    "\n",
    "Create a tuple with three foods that you love to eat. Save it in a variable called `preferred_food`."
   ]
  },
  {
   "cell_type": "code",
   "execution_count": 10,
   "metadata": {
    "ExecuteTime": {
     "end_time": "2021-02-08T21:04:13.875560Z",
     "start_time": "2021-02-08T21:04:13.855573Z"
    }
   },
   "outputs": [
    {
     "data": {
      "text/plain": [
       "('pizza', 'icecream', 'chips')"
      ]
     },
     "execution_count": 10,
     "metadata": {},
     "output_type": "execute_result"
    }
   ],
   "source": [
    "##Create Tuple\n",
    "preferred_food = 'pizza','icecream', 'chips'\n",
    "\n",
    "##Check Tuple\n",
    "preferred_food"
   ]
  },
  {
   "cell_type": "markdown",
   "metadata": {},
   "source": [
    "\n",
    "***\n",
    "\n",
    "### Question 4\n",
    "\n",
    "The module random has a handy function for selecting elements in a tuple: `choice`. Import the module `random`, and name it `rd`."
   ]
  },
  {
   "cell_type": "code",
   "execution_count": 13,
   "metadata": {
    "ExecuteTime": {
     "end_time": "2021-02-08T21:08:21.148654Z",
     "start_time": "2021-02-08T21:08:21.135689Z"
    }
   },
   "outputs": [],
   "source": [
    "##Import Package\n",
    "import random as rd"
   ]
  },
  {
   "cell_type": "markdown",
   "metadata": {},
   "source": [
    "\n",
    "***\n",
    "\n",
    "### Question 5\n",
    "\n",
    "Using the function choice, select a food to eat today. (Hint: when we used `numpy`, I named it `np`. When I needed a function in it, I did `np.function_I_needed`...)"
   ]
  },
  {
   "cell_type": "code",
   "execution_count": 18,
   "metadata": {
    "ExecuteTime": {
     "end_time": "2021-02-08T21:09:28.703551Z",
     "start_time": "2021-02-08T21:09:28.687601Z"
    }
   },
   "outputs": [],
   "source": [
    "##Function that takes tuple of food choices and randomly selects one of the items\n",
    "##I added function to make it easier to run but it is not neccesary\n",
    "def foodchoice(tuple):\n",
    "    today_food = rd.choice(preferred_food)\n",
    "    return print(today_food)"
   ]
  },
  {
   "cell_type": "code",
   "execution_count": 19,
   "metadata": {
    "ExecuteTime": {
     "end_time": "2021-02-08T21:09:39.370548Z",
     "start_time": "2021-02-08T21:09:39.360574Z"
    }
   },
   "outputs": [
    {
     "name": "stdout",
     "output_type": "stream",
     "text": [
      "icecream\n"
     ]
    }
   ],
   "source": [
    "foodchoice(preferred_food)"
   ]
  },
  {
   "cell_type": "markdown",
   "metadata": {},
   "source": [
    "**That's all, folks!**"
   ]
  },
  {
   "cell_type": "code",
   "execution_count": null,
   "metadata": {},
   "outputs": [],
   "source": []
  }
 ],
 "metadata": {
  "kernelspec": {
   "display_name": "Python 3",
   "language": "python",
   "name": "python3"
  },
  "language_info": {
   "codemirror_mode": {
    "name": "ipython",
    "version": 3
   },
   "file_extension": ".py",
   "mimetype": "text/x-python",
   "name": "python",
   "nbconvert_exporter": "python",
   "pygments_lexer": "ipython3",
   "version": "3.7.3"
  }
 },
 "nbformat": 4,
 "nbformat_minor": 4
}
