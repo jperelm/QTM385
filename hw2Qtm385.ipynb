{
 "cells": [
  {
   "cell_type": "markdown",
   "metadata": {},
   "source": [
    "# QTM 385\n",
    "\n",
    "***\n",
    "\n",
    "## Homework 2\n",
    "\n",
    "Student: Jason Perelman 2282366\n"
   ]
  },
  {
   "cell_type": "markdown",
   "metadata": {},
   "source": [
    "In this homework we will create a text scrambler. The idea is that the user is going to input some text, and we will scramble the letters in the text. Each question will guide you up to the desired result."
   ]
  },
  {
   "cell_type": "markdown",
   "metadata": {},
   "source": [
    "\n",
    "***\n",
    "\n",
    "### Question 1\n",
    "\n",
    "Suppose that you have a string `S = 'My beautiful string'`. Show that you can transform your string into a list by applying the command `list(S)` to it."
   ]
  },
  {
   "cell_type": "code",
   "execution_count": 3,
   "metadata": {
    "ExecuteTime": {
     "end_time": "2021-02-16T23:07:01.826767Z",
     "start_time": "2021-02-16T23:07:01.814799Z"
    }
   },
   "outputs": [
    {
     "name": "stdout",
     "output_type": "stream",
     "text": [
      "<class 'list'>\n"
     ]
    }
   ],
   "source": [
    "S = 'My beautiful String'\n",
    "list_s = list(S)\n",
    "print(type(list_s))"
   ]
  },
  {
   "cell_type": "markdown",
   "metadata": {},
   "source": [
    "\n",
    "***\n",
    "\n",
    "### Question 2\n",
    "\n",
    "If you have a list, you can put the elements together forming a string if you do the following:\n",
    "\n",
    "```\n",
    "L = ['1', '2', '3', '4', '5', '6']\n",
    "''.join(L)\n",
    "```\n",
    "\n",
    "Try for the list in this example. Try also for the list below:\n",
    "\n",
    "```\n",
    "L2 = ['a', '2', 'c', '4', 'e', '6']\n",
    "```"
   ]
  },
  {
   "cell_type": "code",
   "execution_count": 12,
   "metadata": {
    "ExecuteTime": {
     "end_time": "2021-02-16T23:11:17.708290Z",
     "start_time": "2021-02-16T23:11:17.694327Z"
    }
   },
   "outputs": [
    {
     "name": "stdout",
     "output_type": "stream",
     "text": [
      "123456\n",
      "a2c4e6\n"
     ]
    }
   ],
   "source": [
    "L = ['1', '2', '3', '4', '5', '6']\n",
    "##List 1\n",
    "print(''.join(L))\n",
    "\n",
    "##List 2\n",
    "L2 = ['a', '2', 'c', '4', 'e', '6']\n",
    "print(''.join(L2))"
   ]
  },
  {
   "cell_type": "markdown",
   "metadata": {},
   "source": [
    "\n",
    "***\n",
    "\n",
    "### Question 3\n",
    "\n",
    "If you have a list of objects, we learned how to select one using the function `choice` in the `random` module. This module has also a function `sample`, where you can select one or more elements from a list or tuple. Suppose we have a list `L` with elements, and that we imported the module as `rd` (see previous homework). The syntax for selecting three elements there is:\n",
    "\n",
    "```\n",
    "rd.sample(L, 3)\n",
    "```\n",
    "\n",
    "Now, from the following list:\n",
    "\n",
    "```\n",
    "preferred_food = ['pizza', 'ice cream', 'salad']\n",
    "```\n",
    "\n",
    "Select two favorite foods to eat."
   ]
  },
  {
   "cell_type": "code",
   "execution_count": 17,
   "metadata": {
    "ExecuteTime": {
     "end_time": "2021-02-16T23:12:42.638494Z",
     "start_time": "2021-02-16T23:12:42.621541Z"
    }
   },
   "outputs": [
    {
     "name": "stdout",
     "output_type": "stream",
     "text": [
      "['ice cream', 'pizza']\n"
     ]
    }
   ],
   "source": [
    "import random as rd\n",
    "preferred_food = ['pizza','ice cream','salad']\n",
    "\n",
    "##Choose two items from food list\n",
    "print(rd.sample(preferred_food,2))"
   ]
  },
  {
   "cell_type": "markdown",
   "metadata": {},
   "source": [
    "\n",
    "***\n",
    "\n",
    "### Question 4\n",
    "\n",
    "To get the user's input, we can use the function `input()`. The syntax is simple: `variable_saving = input('Prompt here: ')`. Use the function below to save the input in the variable `my_entry`. As a prompt, use the phrase 'Enter your text here: '. Print the text typed by the user."
   ]
  },
  {
   "cell_type": "code",
   "execution_count": 75,
   "metadata": {
    "ExecuteTime": {
     "end_time": "2021-02-16T23:39:16.132372Z",
     "start_time": "2021-02-16T23:39:13.999924Z"
    }
   },
   "outputs": [
    {
     "name": "stdout",
     "output_type": "stream",
     "text": [
      "Enter your text here: hello\n",
      "hello\n"
     ]
    }
   ],
   "source": [
    "##Print Statment in chunk\n",
    "my_entry = input('Enter your text here: ')\n",
    "print(my_entry)"
   ]
  },
  {
   "cell_type": "markdown",
   "metadata": {},
   "source": [
    "\n",
    "***\n",
    "\n",
    "### Question 5\n",
    "\n",
    "Now, build your scrambler. Assume the user will enter a word, or a name, or even a phrase. Scramble it and return the input scrambled after the user type it."
   ]
  },
  {
   "cell_type": "code",
   "execution_count": 82,
   "metadata": {
    "ExecuteTime": {
     "end_time": "2021-02-16T23:45:21.290139Z",
     "start_time": "2021-02-16T23:45:21.285153Z"
    }
   },
   "outputs": [
    {
     "data": {
      "text/plain": [
       "'hnopyt'"
      ]
     },
     "execution_count": 82,
     "metadata": {},
     "output_type": "execute_result"
    }
   ],
   "source": [
    "##Function ##not using input\n",
    "def Scramble(my_entry):\n",
    "    return ''.join(rd.sample(my_entry,len(my_entry)))\n",
    "\n",
    "Scramble('python')"
   ]
  },
  {
   "cell_type": "code",
   "execution_count": 80,
   "metadata": {
    "ExecuteTime": {
     "end_time": "2021-02-16T23:44:27.085931Z",
     "start_time": "2021-02-16T23:44:21.757693Z"
    }
   },
   "outputs": [
    {
     "name": "stdout",
     "output_type": "stream",
     "text": [
      "Enter your text here: Python\n"
     ]
    },
    {
     "data": {
      "text/plain": [
       "'yPntoh'"
      ]
     },
     "execution_count": 80,
     "metadata": {},
     "output_type": "execute_result"
    }
   ],
   "source": [
    "##Chunk that utilizes the input() function, please run entire chunk.\n",
    "my_entry = input('Enter your text here: ')\n",
    "''.join(rd.sample(my_entry,len(my_entry)))"
   ]
  },
  {
   "cell_type": "markdown",
   "metadata": {},
   "source": [
    "**That's all, folks!**"
   ]
  }
 ],
 "metadata": {
  "kernelspec": {
   "display_name": "Python 3",
   "language": "python",
   "name": "python3"
  },
  "language_info": {
   "codemirror_mode": {
    "name": "ipython",
    "version": 3
   },
   "file_extension": ".py",
   "mimetype": "text/x-python",
   "name": "python",
   "nbconvert_exporter": "python",
   "pygments_lexer": "ipython3",
   "version": "3.8.5"
  }
 },
 "nbformat": 4,
 "nbformat_minor": 4
}
